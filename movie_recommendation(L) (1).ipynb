{
  "nbformat": 4,
  "nbformat_minor": 0,
  "metadata": {
    "colab": {
      "name": "movie_recommendation(L).ipynb",
      "provenance": [],
      "toc_visible": true
    },
    "kernelspec": {
      "name": "python3",
      "display_name": "Python 3"
    }
  },
  "cells": [
    {
      "cell_type": "code",
      "metadata": {
        "id": "rFchsuu_oQgv"
      },
      "source": [
        "import re\r\n",
        "from difflib import SequenceMatcher\r\n",
        "import numpy as np\r\n",
        "import pandas as pd\r\n",
        "import matplotlib.pyplot as plt\r\n",
        "from scipy.sparse import csr_matrix\r\n",
        "from sklearn.neighbors import NearestNeighbors"
      ],
      "execution_count": 5,
      "outputs": []
    },
    {
      "cell_type": "code",
      "metadata": {
        "id": "_tlK1mhgRgl8",
        "colab": {
          "base_uri": "https://localhost:8080/"
        },
        "outputId": "3e1b1885-1156-4641-c593-768c1d300147"
      },
      "source": [
        "from google.colab import drive\n",
        "drive.mount('/content/gdrive')"
      ],
      "execution_count": 1,
      "outputs": [
        {
          "output_type": "stream",
          "text": [
            "Mounted at /content/gdrive\n"
          ],
          "name": "stdout"
        }
      ]
    },
    {
      "cell_type": "code",
      "metadata": {
        "colab": {
          "base_uri": "https://localhost:8080/"
        },
        "id": "0iP__ylYLaBf",
        "outputId": "9463678f-8495-4360-ddd2-9e2e58aeecd3"
      },
      "source": [
        "from zipfile import ZipFile\r\n",
        "brain_data = '/content/gdrive/MyDrive/movies.zip'\r\n",
        "with ZipFile(brain_data, 'r') as zip:\r\n",
        "  zip.extractall()\r\n",
        "  print('Done')\r\n"
      ],
      "execution_count": 2,
      "outputs": [
        {
          "output_type": "stream",
          "text": [
            "Done\n"
          ],
          "name": "stdout"
        }
      ]
    },
    {
      "cell_type": "code",
      "metadata": {
        "id": "Rx4xVESMqqKn"
      },
      "source": [
        "movies= pd.read_csv('/content/moviesdata/movies.csv')\r\n",
        "movies=movies.drop(['genres'],axis='columns')"
      ],
      "execution_count": 6,
      "outputs": []
    },
    {
      "cell_type": "code",
      "metadata": {
        "id": "ddMrQP0wubgY"
      },
      "source": [
        "ratings=pd.read_csv('/content/moviesdata/ratings.csv')\r\n",
        "ratings=ratings.drop(['timestamp'],axis='columns')"
      ],
      "execution_count": 7,
      "outputs": []
    },
    {
      "cell_type": "code",
      "metadata": {
        "colab": {
          "base_uri": "https://localhost:8080/",
          "height": 404
        },
        "id": "7B6jjrXascsF",
        "outputId": "f3403d50-ce26-46e8-9e91-378a9862c40c"
      },
      "source": [
        "ratings"
      ],
      "execution_count": 8,
      "outputs": [
        {
          "output_type": "execute_result",
          "data": {
            "text/html": [
              "<div>\n",
              "<style scoped>\n",
              "    .dataframe tbody tr th:only-of-type {\n",
              "        vertical-align: middle;\n",
              "    }\n",
              "\n",
              "    .dataframe tbody tr th {\n",
              "        vertical-align: top;\n",
              "    }\n",
              "\n",
              "    .dataframe thead th {\n",
              "        text-align: right;\n",
              "    }\n",
              "</style>\n",
              "<table border=\"1\" class=\"dataframe\">\n",
              "  <thead>\n",
              "    <tr style=\"text-align: right;\">\n",
              "      <th></th>\n",
              "      <th>userId</th>\n",
              "      <th>movieId</th>\n",
              "      <th>rating</th>\n",
              "    </tr>\n",
              "  </thead>\n",
              "  <tbody>\n",
              "    <tr>\n",
              "      <th>0</th>\n",
              "      <td>1</td>\n",
              "      <td>296</td>\n",
              "      <td>5.0</td>\n",
              "    </tr>\n",
              "    <tr>\n",
              "      <th>1</th>\n",
              "      <td>1</td>\n",
              "      <td>306</td>\n",
              "      <td>3.5</td>\n",
              "    </tr>\n",
              "    <tr>\n",
              "      <th>2</th>\n",
              "      <td>1</td>\n",
              "      <td>307</td>\n",
              "      <td>5.0</td>\n",
              "    </tr>\n",
              "    <tr>\n",
              "      <th>3</th>\n",
              "      <td>1</td>\n",
              "      <td>665</td>\n",
              "      <td>5.0</td>\n",
              "    </tr>\n",
              "    <tr>\n",
              "      <th>4</th>\n",
              "      <td>1</td>\n",
              "      <td>899</td>\n",
              "      <td>3.5</td>\n",
              "    </tr>\n",
              "    <tr>\n",
              "      <th>...</th>\n",
              "      <td>...</td>\n",
              "      <td>...</td>\n",
              "      <td>...</td>\n",
              "    </tr>\n",
              "    <tr>\n",
              "      <th>25000090</th>\n",
              "      <td>162541</td>\n",
              "      <td>50872</td>\n",
              "      <td>4.5</td>\n",
              "    </tr>\n",
              "    <tr>\n",
              "      <th>25000091</th>\n",
              "      <td>162541</td>\n",
              "      <td>55768</td>\n",
              "      <td>2.5</td>\n",
              "    </tr>\n",
              "    <tr>\n",
              "      <th>25000092</th>\n",
              "      <td>162541</td>\n",
              "      <td>56176</td>\n",
              "      <td>2.0</td>\n",
              "    </tr>\n",
              "    <tr>\n",
              "      <th>25000093</th>\n",
              "      <td>162541</td>\n",
              "      <td>58559</td>\n",
              "      <td>4.0</td>\n",
              "    </tr>\n",
              "    <tr>\n",
              "      <th>25000094</th>\n",
              "      <td>162541</td>\n",
              "      <td>63876</td>\n",
              "      <td>5.0</td>\n",
              "    </tr>\n",
              "  </tbody>\n",
              "</table>\n",
              "<p>25000095 rows × 3 columns</p>\n",
              "</div>"
            ],
            "text/plain": [
              "          userId  movieId  rating\n",
              "0              1      296     5.0\n",
              "1              1      306     3.5\n",
              "2              1      307     5.0\n",
              "3              1      665     5.0\n",
              "4              1      899     3.5\n",
              "...          ...      ...     ...\n",
              "25000090  162541    50872     4.5\n",
              "25000091  162541    55768     2.5\n",
              "25000092  162541    56176     2.0\n",
              "25000093  162541    58559     4.0\n",
              "25000094  162541    63876     5.0\n",
              "\n",
              "[25000095 rows x 3 columns]"
            ]
          },
          "metadata": {
            "tags": []
          },
          "execution_count": 8
        }
      ]
    },
    {
      "cell_type": "code",
      "metadata": {
        "colab": {
          "base_uri": "https://localhost:8080/",
          "height": 197
        },
        "id": "CGDpUlf3u1EJ",
        "outputId": "ddd03666-58e2-46c9-bd8f-849011862e90"
      },
      "source": [
        "movies.head()"
      ],
      "execution_count": null,
      "outputs": [
        {
          "output_type": "execute_result",
          "data": {
            "text/html": [
              "<div>\n",
              "<style scoped>\n",
              "    .dataframe tbody tr th:only-of-type {\n",
              "        vertical-align: middle;\n",
              "    }\n",
              "\n",
              "    .dataframe tbody tr th {\n",
              "        vertical-align: top;\n",
              "    }\n",
              "\n",
              "    .dataframe thead th {\n",
              "        text-align: right;\n",
              "    }\n",
              "</style>\n",
              "<table border=\"1\" class=\"dataframe\">\n",
              "  <thead>\n",
              "    <tr style=\"text-align: right;\">\n",
              "      <th></th>\n",
              "      <th>movieId</th>\n",
              "      <th>title</th>\n",
              "    </tr>\n",
              "  </thead>\n",
              "  <tbody>\n",
              "    <tr>\n",
              "      <th>0</th>\n",
              "      <td>1</td>\n",
              "      <td>Toy Story (1995)</td>\n",
              "    </tr>\n",
              "    <tr>\n",
              "      <th>1</th>\n",
              "      <td>2</td>\n",
              "      <td>Jumanji (1995)</td>\n",
              "    </tr>\n",
              "    <tr>\n",
              "      <th>2</th>\n",
              "      <td>3</td>\n",
              "      <td>Grumpier Old Men (1995)</td>\n",
              "    </tr>\n",
              "    <tr>\n",
              "      <th>3</th>\n",
              "      <td>4</td>\n",
              "      <td>Waiting to Exhale (1995)</td>\n",
              "    </tr>\n",
              "    <tr>\n",
              "      <th>4</th>\n",
              "      <td>5</td>\n",
              "      <td>Father of the Bride Part II (1995)</td>\n",
              "    </tr>\n",
              "  </tbody>\n",
              "</table>\n",
              "</div>"
            ],
            "text/plain": [
              "   movieId                               title\n",
              "0        1                    Toy Story (1995)\n",
              "1        2                      Jumanji (1995)\n",
              "2        3             Grumpier Old Men (1995)\n",
              "3        4            Waiting to Exhale (1995)\n",
              "4        5  Father of the Bride Part II (1995)"
            ]
          },
          "metadata": {
            "tags": []
          },
          "execution_count": 6
        }
      ]
    },
    {
      "cell_type": "code",
      "metadata": {
        "colab": {
          "base_uri": "https://localhost:8080/",
          "height": 197
        },
        "id": "ZvhjzVmeu356",
        "outputId": "9e4e1a0e-0733-438b-b743-879219cbbee5"
      },
      "source": [
        "ratings.head()"
      ],
      "execution_count": null,
      "outputs": [
        {
          "output_type": "execute_result",
          "data": {
            "text/html": [
              "<div>\n",
              "<style scoped>\n",
              "    .dataframe tbody tr th:only-of-type {\n",
              "        vertical-align: middle;\n",
              "    }\n",
              "\n",
              "    .dataframe tbody tr th {\n",
              "        vertical-align: top;\n",
              "    }\n",
              "\n",
              "    .dataframe thead th {\n",
              "        text-align: right;\n",
              "    }\n",
              "</style>\n",
              "<table border=\"1\" class=\"dataframe\">\n",
              "  <thead>\n",
              "    <tr style=\"text-align: right;\">\n",
              "      <th></th>\n",
              "      <th>userId</th>\n",
              "      <th>movieId</th>\n",
              "      <th>rating</th>\n",
              "    </tr>\n",
              "  </thead>\n",
              "  <tbody>\n",
              "    <tr>\n",
              "      <th>0</th>\n",
              "      <td>1</td>\n",
              "      <td>296</td>\n",
              "      <td>5.0</td>\n",
              "    </tr>\n",
              "    <tr>\n",
              "      <th>1</th>\n",
              "      <td>1</td>\n",
              "      <td>306</td>\n",
              "      <td>3.5</td>\n",
              "    </tr>\n",
              "    <tr>\n",
              "      <th>2</th>\n",
              "      <td>1</td>\n",
              "      <td>307</td>\n",
              "      <td>5.0</td>\n",
              "    </tr>\n",
              "    <tr>\n",
              "      <th>3</th>\n",
              "      <td>1</td>\n",
              "      <td>665</td>\n",
              "      <td>5.0</td>\n",
              "    </tr>\n",
              "    <tr>\n",
              "      <th>4</th>\n",
              "      <td>1</td>\n",
              "      <td>899</td>\n",
              "      <td>3.5</td>\n",
              "    </tr>\n",
              "  </tbody>\n",
              "</table>\n",
              "</div>"
            ],
            "text/plain": [
              "   userId  movieId  rating\n",
              "0       1      296     5.0\n",
              "1       1      306     3.5\n",
              "2       1      307     5.0\n",
              "3       1      665     5.0\n",
              "4       1      899     3.5"
            ]
          },
          "metadata": {
            "tags": []
          },
          "execution_count": 7
        }
      ]
    },
    {
      "cell_type": "code",
      "metadata": {
        "colab": {
          "base_uri": "https://localhost:8080/"
        },
        "id": "tt4vOu--u6zG",
        "outputId": "b946b263-7eb6-4764-ae6a-5ba1af4c952e"
      },
      "source": [
        "ratings['rating'].sort_values().unique()"
      ],
      "execution_count": null,
      "outputs": [
        {
          "output_type": "execute_result",
          "data": {
            "text/plain": [
              "array([0.5, 1. , 1.5, 2. , 2.5, 3. , 3.5, 4. , 4.5, 5. ])"
            ]
          },
          "metadata": {
            "tags": []
          },
          "execution_count": 8
        }
      ]
    },
    {
      "cell_type": "code",
      "metadata": {
        "colab": {
          "base_uri": "https://localhost:8080/"
        },
        "id": "CR0_6LwhvSS0",
        "outputId": "aba7b5de-07d6-4a1d-8cef-ab48103bddbc"
      },
      "source": [
        "movies.values.shape[0]"
      ],
      "execution_count": null,
      "outputs": [
        {
          "output_type": "execute_result",
          "data": {
            "text/plain": [
              "62423"
            ]
          },
          "metadata": {
            "tags": []
          },
          "execution_count": 9
        }
      ]
    },
    {
      "cell_type": "code",
      "metadata": {
        "colab": {
          "base_uri": "https://localhost:8080/"
        },
        "id": "yv79joj7vZKu",
        "outputId": "d564cec3-8004-4ce9-ca90-bc335c3e5be8"
      },
      "source": [
        "ratings.values.shape[0]"
      ],
      "execution_count": null,
      "outputs": [
        {
          "output_type": "execute_result",
          "data": {
            "text/plain": [
              "25000095"
            ]
          },
          "metadata": {
            "tags": []
          },
          "execution_count": 10
        }
      ]
    },
    {
      "cell_type": "code",
      "metadata": {
        "colab": {
          "base_uri": "https://localhost:8080/"
        },
        "id": "RNJmx6h6vWuh",
        "outputId": "f93eeb32-f191-48bd-da40-fb7c6ec77aaf"
      },
      "source": [
        "ratings['userId'].nunique()"
      ],
      "execution_count": null,
      "outputs": [
        {
          "output_type": "execute_result",
          "data": {
            "text/plain": [
              "162541"
            ]
          },
          "metadata": {
            "tags": []
          },
          "execution_count": 11
        }
      ]
    },
    {
      "cell_type": "markdown",
      "metadata": {
        "id": "2bGD4zZwzton"
      },
      "source": [
        "# **Data preprocessing and visualization**"
      ]
    },
    {
      "cell_type": "markdown",
      "metadata": {
        "id": "KghJOogBz6aI"
      },
      "source": [
        "The long tail property"
      ]
    },
    {
      "cell_type": "markdown",
      "metadata": {
        "id": "qa32laJ10Se5"
      },
      "source": [
        "A general trend observed and buisness is that a small perscentage of entitiles are highly popular and the rest are not popular"
      ]
    },
    {
      "cell_type": "markdown",
      "metadata": {
        "id": "TBWXN6cW0rKN"
      },
      "source": [
        "### **set threshold for popular movies and active users**"
      ]
    },
    {
      "cell_type": "code",
      "metadata": {
        "id": "SBwhc2NDzmPa"
      },
      "source": [
        "popular_movies_thresh=25\r\n",
        "active_users_thresh=100"
      ],
      "execution_count": null,
      "outputs": []
    },
    {
      "cell_type": "markdown",
      "metadata": {
        "id": "uqYoQ_U-1CSd"
      },
      "source": [
        "### **Vizualise the long-tail property for popurlar movies**"
      ]
    },
    {
      "cell_type": "code",
      "metadata": {
        "colab": {
          "base_uri": "https://localhost:8080/",
          "height": 350
        },
        "id": "RIuQS42C1PdT",
        "outputId": "6d035d55-0f04-4bfa-9989-70c8b3aa0984"
      },
      "source": [
        "movies_count = pd.DataFrame(ratings.groupby('movieId').size().sort_values(ascending=False), columns=['count'])\r\n",
        "divider = len(movies_count.query('count >= @popular_movies_thresh'))\r\n",
        "fig, (ax) = plt.subplots(1, 1, figsize=(15,5))\r\n",
        "plt.plot(np.arange(len(movies_count)),movies_count['count'], color='red')\r\n",
        "plt.xlabel('Movies')\r\n",
        "plt.ylabel('Number of ratings')\r\n",
        "\r\n",
        "ax.fill_between(np.arange(0,divider),\r\n",
        "                0,\r\n",
        "                movies_count['count'][:divider],\r\n",
        "                color='orange',\r\n",
        "                alpha=0.5)\r\n",
        "ax.fill_between(np.arange(divider, len(movies_count)),\r\n",
        "                0,\r\n",
        "                movies_count['count'][divider:],\r\n",
        "                color='blue',\r\n",
        "                alpha=0.5)"
      ],
      "execution_count": null,
      "outputs": [
        {
          "output_type": "execute_result",
          "data": {
            "text/plain": [
              "<matplotlib.collections.PolyCollection at 0x7f6e9bddf320>"
            ]
          },
          "metadata": {
            "tags": []
          },
          "execution_count": 13
        },
        {
          "output_type": "display_data",
          "data": {
            "image/png": "[encoded data removed]",
            "text/plain": [
              "<Figure size 1080x360 with 1 Axes>"
            ]
          },
          "metadata": {
            "tags": [],
            "needs_background": "light"
          }
        }
      ]
    },
    {
      "cell_type": "markdown",
      "metadata": {
        "id": "0uUNZuSI6eIw"
      },
      "source": [
        "### Remove unpopular movies frm data"
      ]
    },
    {
      "cell_type": "code",
      "metadata": {
        "id": "H3EAkx97vopI"
      },
      "source": [
        "popular_movies_indices=movies_count.query('count >= @popular_movies_thresh').index\r\n",
        "popular_ratings = ratings[ratings['movieId'].isin(popular_movies_indices)]"
      ],
      "execution_count": null,
      "outputs": []
    },
    {
      "cell_type": "markdown",
      "metadata": {
        "id": "zYPXWygh6ruj"
      },
      "source": [
        "**Number of rows in original ratings data**"
      ]
    },
    {
      "cell_type": "code",
      "metadata": {
        "colab": {
          "base_uri": "https://localhost:8080/"
        },
        "id": "_5XbuGIN6tK3",
        "outputId": "df11c78c-2bba-4f8e-92f1-11b303a67b37"
      },
      "source": [
        "ratings.shape[0]"
      ],
      "execution_count": null,
      "outputs": [
        {
          "output_type": "execute_result",
          "data": {
            "text/plain": [
              "25000095"
            ]
          },
          "metadata": {
            "tags": []
          },
          "execution_count": 15
        }
      ]
    },
    {
      "cell_type": "markdown",
      "metadata": {
        "id": "LBtgbYIT7h2t"
      },
      "source": [
        "**Number of rows in rating data after dropping unpopular movies**"
      ]
    },
    {
      "cell_type": "code",
      "metadata": {
        "colab": {
          "base_uri": "https://localhost:8080/"
        },
        "id": "4nQmrF5FzDUG",
        "outputId": "3bfdc5ba-dbd9-4dfe-f868-3286683b98dc"
      },
      "source": [
        "popular_ratings.shape[0]"
      ],
      "execution_count": null,
      "outputs": [
        {
          "output_type": "execute_result",
          "data": {
            "text/plain": [
              "24778520"
            ]
          },
          "metadata": {
            "tags": []
          },
          "execution_count": 16
        }
      ]
    },
    {
      "cell_type": "markdown",
      "metadata": {
        "id": "x4YWTVhg7_pR"
      },
      "source": [
        " **Number of movies before dropping unpopular movies**\r\n"
      ]
    },
    {
      "cell_type": "code",
      "metadata": {
        "colab": {
          "base_uri": "https://localhost:8080/"
        },
        "id": "I2hbdTgi791W",
        "outputId": "085b5f2c-dc2a-4670-ef16-70837354ac4c"
      },
      "source": [
        "ratings.groupby('movieId').count().shape[0]"
      ],
      "execution_count": null,
      "outputs": [
        {
          "output_type": "execute_result",
          "data": {
            "text/plain": [
              "59047"
            ]
          },
          "metadata": {
            "tags": []
          },
          "execution_count": 17
        }
      ]
    },
    {
      "cell_type": "markdown",
      "metadata": {
        "id": "cm0c1nM58plh"
      },
      "source": [
        "**Number of movies after dropping unpopular movies**"
      ]
    },
    {
      "cell_type": "code",
      "metadata": {
        "colab": {
          "base_uri": "https://localhost:8080/"
        },
        "id": "z0HZWuDk8mUL",
        "outputId": "7755cc8a-f8ec-441a-bb64-f40d376eab3b"
      },
      "source": [
        "popular_ratings.groupby('movieId').count().shape[0]"
      ],
      "execution_count": null,
      "outputs": [
        {
          "output_type": "execute_result",
          "data": {
            "text/plain": [
              "16970"
            ]
          },
          "metadata": {
            "tags": []
          },
          "execution_count": 18
        }
      ]
    },
    {
      "cell_type": "markdown",
      "metadata": {
        "id": "h4PIGwuU9P9D"
      },
      "source": [
        "## Vizualise the long-tail property for active users"
      ]
    },
    {
      "cell_type": "code",
      "metadata": {
        "colab": {
          "base_uri": "https://localhost:8080/",
          "height": 350
        },
        "id": "p2Wjj3D_9Btj",
        "outputId": "4ba8350c-af43-4066-fb16-3b82fce9e122"
      },
      "source": [
        "users_count = pd.DataFrame(popular_ratings.groupby('userId').size().sort_values(ascending=False), columns=['count'])\r\n",
        "divider = len(users_count.query('count >= @active_users_thresh'))\r\n",
        "fig, (ax) = plt.subplots(1, 1, figsize=(15,5))\r\n",
        "plt.plot(np.arange(len(users_count)),users_count['count'], color='r')\r\n",
        "plt.xlabel('Users')\r\n",
        "plt.ylabel('Number of ratings')\r\n",
        "\r\n",
        "ax.fill_between(np.arange(0,divider),\r\n",
        "                0,\r\n",
        "                users_count['count'][:divider],\r\n",
        "                color='orange',\r\n",
        "                alpha=0.5)\r\n",
        "ax.fill_between(np.arange(divider, len(users_count)),\r\n",
        "                0,\r\n",
        "                users_count['count'][divider:],\r\n",
        "                color='blue',\r\n",
        "                alpha=0.5)"
      ],
      "execution_count": null,
      "outputs": [
        {
          "output_type": "execute_result",
          "data": {
            "text/plain": [
              "<matplotlib.collections.PolyCollection at 0x7f6e9bd64630>"
            ]
          },
          "metadata": {
            "tags": []
          },
          "execution_count": 19
        },
        {
          "output_type": "display_data",
          "data": {
            "image/png": "[encoded data removed]",
            "text/plain": [
              "<Figure size 1080x360 with 1 Axes>"
            ]
          },
          "metadata": {
            "tags": [],
            "needs_background": "light"
          }
        }
      ]
    },
    {
      "cell_type": "markdown",
      "metadata": {
        "id": "Eg6KKG4g-XHp"
      },
      "source": [
        "## Remove non-active users frm data"
      ]
    },
    {
      "cell_type": "code",
      "metadata": {
        "id": "AR21dx-O-dlP"
      },
      "source": [
        "active_users_indices = users_count.query('count >= @active_users_thresh').index\r\n",
        "active_users_ratings = popular_ratings[popular_ratings['userId'].isin(active_users_indices)]"
      ],
      "execution_count": null,
      "outputs": []
    },
    {
      "cell_type": "markdown",
      "metadata": {
        "id": "gheR9Xuj_3Wu"
      },
      "source": [
        " **Number of rows in rating data after removing unpopular movies**"
      ]
    },
    {
      "cell_type": "code",
      "metadata": {
        "colab": {
          "base_uri": "https://localhost:8080/"
        },
        "id": "N5bja06Z-Qdv",
        "outputId": "61e85cb6-bb5f-46d0-f4f6-f356e065676e"
      },
      "source": [
        "popular_ratings.shape[0]"
      ],
      "execution_count": null,
      "outputs": [
        {
          "output_type": "execute_result",
          "data": {
            "text/plain": [
              "24778520"
            ]
          },
          "metadata": {
            "tags": []
          },
          "execution_count": 21
        }
      ]
    },
    {
      "cell_type": "markdown",
      "metadata": {
        "id": "3TMYbs0qAHFR"
      },
      "source": [
        " **Number of rows in rating data after removing unpopular movies and active users**"
      ]
    },
    {
      "cell_type": "code",
      "metadata": {
        "colab": {
          "base_uri": "https://localhost:8080/"
        },
        "id": "nCsYXMwQ_yaz",
        "outputId": "55363769-4843-432e-a895-45af20cd087d"
      },
      "source": [
        "active_users_ratings.shape[0]"
      ],
      "execution_count": null,
      "outputs": [
        {
          "output_type": "execute_result",
          "data": {
            "text/plain": [
              "20174256"
            ]
          },
          "metadata": {
            "tags": []
          },
          "execution_count": 22
        }
      ]
    },
    {
      "cell_type": "markdown",
      "metadata": {
        "id": "D8FHuhxUAUi-"
      },
      "source": [
        " **Number of users before removing inactive users**"
      ]
    },
    {
      "cell_type": "code",
      "metadata": {
        "colab": {
          "base_uri": "https://localhost:8080/"
        },
        "id": "0lH4p3Qg_2CH",
        "outputId": "419ca0a8-321d-4174-ae33-fc3926019649"
      },
      "source": [
        "popular_ratings.groupby('userId').count().shape[0]"
      ],
      "execution_count": null,
      "outputs": [
        {
          "output_type": "execute_result",
          "data": {
            "text/plain": [
              "162540"
            ]
          },
          "metadata": {
            "tags": []
          },
          "execution_count": 23
        }
      ]
    },
    {
      "cell_type": "markdown",
      "metadata": {
        "id": "PGnr4Cm-A5eI"
      },
      "source": [
        " **Number of users after removing inactive users and unpopular movies**"
      ]
    },
    {
      "cell_type": "code",
      "metadata": {
        "colab": {
          "base_uri": "https://localhost:8080/"
        },
        "id": "2Thl6eevAswe",
        "outputId": "8338a356-24e6-4c87-ecda-545433242be2"
      },
      "source": [
        "active_users_ratings.groupby('userId').count().shape[0]"
      ],
      "execution_count": null,
      "outputs": [
        {
          "output_type": "execute_result",
          "data": {
            "text/plain": [
              "63809"
            ]
          },
          "metadata": {
            "tags": []
          },
          "execution_count": 24
        }
      ]
    },
    {
      "cell_type": "markdown",
      "metadata": {
        "id": "FkCfEgpWBiTT"
      },
      "source": [
        " **create a pivot table of rows containing movie id and columns containing userid .The cells in the tabel will contain the rating given by the user to the movie**"
      ]
    },
    {
      "cell_type": "code",
      "metadata": {
        "id": "sJK2n-MWnKkc"
      },
      "source": [
        "pivot_tables = active_users_ratings.pivot(index='movieId', columns='userId', values='rating').fillna(0)"
      ],
      "execution_count": null,
      "outputs": []
    },
    {
      "cell_type": "markdown",
      "metadata": {
        "id": "J6B4I88GCuE4"
      },
      "source": [
        " **Number of movies in the pivot table**"
      ]
    },
    {
      "cell_type": "code",
      "metadata": {
        "id": "t9FbOolkBKR4"
      },
      "source": [
        "pivot_tables.index.shape[0]"
      ],
      "execution_count": null,
      "outputs": []
    },
    {
      "cell_type": "markdown",
      "metadata": {
        "id": "9SePpt8FDJk1"
      },
      "source": [
        " **Number of users in the pivot table**"
      ]
    },
    {
      "cell_type": "code",
      "metadata": {
        "id": "z4Wbu2oVDAjB"
      },
      "source": [
        "pivot_tables.columns.shape[0]"
      ],
      "execution_count": null,
      "outputs": []
    },
    {
      "cell_type": "code",
      "metadata": {
        "id": "z1YIh0-NDFnz"
      },
      "source": [
        "pivot_tables.head()"
      ],
      "execution_count": null,
      "outputs": []
    },
    {
      "cell_type": "markdown",
      "metadata": {
        "id": "EQWB3JBrDVCY"
      },
      "source": [
        "### **Create a sparse matrix from the pivot table**"
      ]
    },
    {
      "cell_type": "code",
      "metadata": {
        "id": "wVPG9rdZDIgH"
      },
      "source": [
        "sparse_matrix = csr_matrix(pivot_tables.values)"
      ],
      "execution_count": null,
      "outputs": []
    },
    {
      "cell_type": "markdown",
      "metadata": {
        "id": "Fqsl9CFGD7SR"
      },
      "source": [
        "## **Create dictionaries(mapping) for:**"
      ]
    },
    {
      "cell_type": "markdown",
      "metadata": {
        "id": "VjhZXMviELa4"
      },
      "source": [
        "1.movie title -> movie id\r\n",
        "\r\n",
        "2.movie id -> movie title"
      ]
    },
    {
      "cell_type": "code",
      "metadata": {
        "id": "bkZ9LSDiD1WZ"
      },
      "source": [
        "pivot_table_movies = movies.set_index('movieId').loc[pivot_tables.index]['title'].values\r\n",
        "title_to_id = {movie : i for i ,movie in enumerate(pivot_table_movies)}"
      ],
      "execution_count": null,
      "outputs": []
    },
    {
      "cell_type": "code",
      "metadata": {
        "id": "nQ6jRrL3E8yV"
      },
      "source": [
        "id_to_title = {v : k for k, v in title_to_id.items()}"
      ],
      "execution_count": null,
      "outputs": []
    },
    {
      "cell_type": "markdown",
      "metadata": {
        "id": "CITvswFeFbue"
      },
      "source": [
        "# Train the model"
      ]
    },
    {
      "cell_type": "markdown",
      "metadata": {
        "id": "yc3okcsxGqv0"
      },
      "source": [
        " **we use k-nearest algorithm.The sparse matrix is provided as the dataset to the algorithm**"
      ]
    },
    {
      "cell_type": "markdown",
      "metadata": {
        "id": "DJJil8l9G-kM"
      },
      "source": [
        " **Cosine similarity:**\r\n",
        " cosine similarity is a measure between two non zero vectors of an inner product space that measures the cosine of the angle between them"
      ]
    },
    {
      "cell_type": "markdown",
      "metadata": {
        "id": "Hsi3lDUfHd-M"
      },
      "source": [
        " **why not Euclidian Distance**?\r\n",
        " no of columns in the data is in order of hundreds and the matrix is very sparse.it would be highly inaccurate and inefficient to use eculidian distance"
      ]
    },
    {
      "cell_type": "markdown",
      "metadata": {
        "id": "a__ysIflH8mm"
      },
      "source": [
        "**Note:**\r\n",
        "The nearest neighbours algorithm is a lazy learner. we call the fit function here bcz internally, the appropriate data structure to be setup for fast lookup and computation of similarity metric"
      ]
    },
    {
      "cell_type": "code",
      "metadata": {
        "id": "qrcdOz_vFVub"
      },
      "source": [
        "model_knn = NearestNeighbors(metric='cosine',algorithm='brute')\r\n",
        "model_knn.fit(sparse_matrix)"
      ],
      "execution_count": null,
      "outputs": []
    },
    {
      "cell_type": "markdown",
      "metadata": {
        "id": "DpSb9AaZJmUX"
      },
      "source": [
        "# Get Recommendations"
      ]
    },
    {
      "cell_type": "markdown",
      "metadata": {
        "id": "CbcLawqhJyha"
      },
      "source": [
        "### **Define a function to search for similar movies titles for a given keyword**"
      ]
    },
    {
      "cell_type": "markdown",
      "metadata": {
        "id": "jK7_F9HVJ_RC"
      },
      "source": [
        "The keyword provided may not be exact title of the movie. Therefore we will use the sequencematcher to perform the search.\r\n",
        "\r\n",
        "Here,we will select top 10 similar movie titles for given search keyword"
      ]
    },
    {
      "cell_type": "code",
      "metadata": {
        "id": "ZWeuEFiEI8CY"
      },
      "source": [
        "def find_matches(title_to_id, movie_title):\r\n",
        "  movie_ids = np.array(list(title_to_id.values())).astype(int)\r\n",
        "  titles = np.array (list(title_to_id.keys()))\r\n",
        "  ratios = list()\r\n",
        "  for title, movie_id in title_to_id.items():\r\n",
        "    ratio = SequenceMatcher(None,movie_title, title, autojunk=False).ratio()\r\n",
        "    ratios.append(ratio)\r\n",
        "  titles,ids = titles[np.argsort(ratios)][-10:], movie_ids[np.argsort(ratios)][-10:]\r\n",
        "  return list(reversed(list(zip(titles, ids))))"
      ],
      "execution_count": null,
      "outputs": []
    },
    {
      "cell_type": "markdown",
      "metadata": {
        "id": "RdXg70yFPBPi"
      },
      "source": [
        " **Given a title of a movie , we will display aDropdown to display the options and to select the title**"
      ]
    },
    {
      "cell_type": "code",
      "metadata": {
        "id": "8QNQbDIXO_rk"
      },
      "source": [
        "title = 'batman'\r\n",
        "options = find_matches(title_to_id, title)\r\n",
        "\r\n",
        "import ipywidgets as widgets\r\n",
        "drop = widgets.Dropdown(options=options)\r\n",
        "drop "
      ],
      "execution_count": null,
      "outputs": []
    },
    {
      "cell_type": "markdown",
      "metadata": {
        "id": "IvrSkvTPTyYY"
      },
      "source": [
        "### **Show recommendations for a given movie**"
      ]
    },
    {
      "cell_type": "markdown",
      "metadata": {
        "id": "iWqXXjOmT-qR"
      },
      "source": [
        "For the given movie, the similarity measures b\\w the given movie all the samples in the dataset is computed.\r\n",
        "\r\n",
        "n_neighbors how mab=ny similar movies are shown as arecommendation"
      ]
    },
    {
      "cell_type": "code",
      "metadata": {
        "id": "6_D-1mzZPune"
      },
      "source": [
        "movie_id =drop.value\r\n",
        "test = pivot_tables.iloc[movie_id, :].values.reshape(1, -1)\r\n",
        "\r\n",
        "distances, indices = model_knn.kneighbors(test,n_neighbors=10 + 1)\r\n",
        "\r\n",
        "indices = indices.squeeze()[1:]\r\n",
        "\r\n",
        "print('Recommendations for : ', id_to_title[movie_id])\r\n",
        "for i, index in enumerate(indices):\r\n",
        "  print(i+1, '.', id_to_title[index])"
      ],
      "execution_count": null,
      "outputs": []
    },
    {
      "cell_type": "code",
      "metadata": {
        "id": "-9OZDAoBUeCO"
      },
      "source": [
        ""
      ],
      "execution_count": null,
      "outputs": []
    }
  ]
}